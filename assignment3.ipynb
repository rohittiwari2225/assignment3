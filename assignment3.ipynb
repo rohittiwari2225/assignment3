{
 "cells": [
  {
   "cell_type": "markdown",
   "id": "aef7d6d5-1373-49e4-894d-5352676d6e08",
   "metadata": {},
   "source": [
    "question 1:\n",
    "\n",
    "def   keyword is used to create a function .\n",
    "\n"
   ]
  },
  {
   "cell_type": "code",
   "execution_count": 10,
   "id": "cf20ee58-63cf-4021-b2a0-8398f7dd6524",
   "metadata": {},
   "outputs": [
    {
     "name": "stdout",
     "output_type": "stream",
     "text": [
      "[1, 3, 5, 7, 9, 11, 13, 15, 17, 19, 21, 23, 25]\n"
     ]
    }
   ],
   "source": [
    "a= []\n",
    "for i in range(1,26):\n",
    "    a.append(i)\n",
    "print(list(filter(lambda x: x%2!=0,a)))   \n",
    "\n",
    "    \n"
   ]
  },
  {
   "cell_type": "markdown",
   "id": "bfe69d5c-ccc1-49cd-baae-5509919cf06e",
   "metadata": {},
   "source": [
    "question 2:\n",
    "\n",
    "*ARGS is used in functions when we need to input multiples values and put them into tuples.\n",
    "where as **KWARGS is use to store values on key value pair in dictionary."
   ]
  },
  {
   "cell_type": "code",
   "execution_count": 2,
   "id": "4d4a8a37-8f32-479f-a569-823e8162874b",
   "metadata": {},
   "outputs": [
    {
     "data": {
      "text/plain": [
       "(1, 2, 3, 4, 5, 6, 7, 66.6, 'rohit')"
      ]
     },
     "execution_count": 2,
     "metadata": {},
     "output_type": "execute_result"
    }
   ],
   "source": [
    "def function(*args):\n",
    "    return args\n",
    "function(1,2,3,4,5,6,7,66.6,\"rohit\")"
   ]
  },
  {
   "cell_type": "code",
   "execution_count": 11,
   "id": "6ae03eed-d783-4344-b49f-76edac12bd78",
   "metadata": {},
   "outputs": [
    {
     "data": {
      "text/plain": [
       "{'name': 'rohit', 'course': 'data science'}"
      ]
     },
     "execution_count": 11,
     "metadata": {},
     "output_type": "execute_result"
    }
   ],
   "source": [
    "def function2(**kwargs):\n",
    "    return kwargs\n",
    "function2(name =\"rohit\", course=\"data science\")"
   ]
  },
  {
   "cell_type": "code",
   "execution_count": 13,
   "id": "dffa30f0-d795-4414-9994-300593bb48e3",
   "metadata": {},
   "outputs": [
    {
     "data": {
      "text/plain": [
       "{'name': 'rohit', 'course': 'data science', 'add': 'bhopal mp'}"
      ]
     },
     "execution_count": 13,
     "metadata": {},
     "output_type": "execute_result"
    }
   ],
   "source": [
    "function2(name =\"rohit\", course=\"data science\",add = \"bhopal mp\")"
   ]
  },
  {
   "cell_type": "markdown",
   "id": "b69b2888-a7b2-4adc-a108-d01b1dd462e3",
   "metadata": {},
   "source": [
    "question 3:\n",
    "\n",
    "An iterator is an object that allows you to iterate over elements in a collection one at a time .\n",
    "\n",
    "the method use to initialise the iterator object is \n",
    "   iter()\n",
    "   \n",
    "and the method use for iteration is \n",
    "   next()\n"
   ]
  },
  {
   "cell_type": "code",
   "execution_count": 2,
   "id": "b71324b8-4da2-422f-8a42-42b4b5429595",
   "metadata": {},
   "outputs": [
    {
     "name": "stdout",
     "output_type": "stream",
     "text": [
      "2\n",
      "4\n",
      "6\n",
      "8\n",
      "10\n"
     ]
    }
   ],
   "source": [
    "my_list = [2,4,6,8,10,12,14,16,18,20]\n",
    "my_iterator = iter(my_list)\n",
    "for i in range(5):\n",
    "    print(next(my_iterator))"
   ]
  },
  {
   "cell_type": "markdown",
   "id": "4ff8457f-07aa-4b29-acd7-499ad81eb002",
   "metadata": {},
   "source": [
    "question 4:\n",
    "    \n",
    "The function which generates the result one by one is called the generator function.\n",
    "\n",
    "The yield keywords is a fundamental building block of generator function in python.\n",
    "It allows a function to act as an iterator ,meaning it can return a sequence of values one at a time.\n"
   ]
  },
  {
   "cell_type": "code",
   "execution_count": 2,
   "id": "f5bea386-74aa-4ed6-a3a2-9b2c1c9746f6",
   "metadata": {},
   "outputs": [
    {
     "name": "stdout",
     "output_type": "stream",
     "text": [
      "0\n",
      "1\n",
      "1\n",
      "2\n",
      "3\n",
      "5\n",
      "8\n",
      "13\n",
      "21\n",
      "34\n",
      "55\n",
      "89\n"
     ]
    }
   ],
   "source": [
    "def test_fib(n):\n",
    "    a,b=0,1\n",
    "    for i in range(n):\n",
    "        yield a\n",
    "        a,b=b,a+b\n",
    "for i in test_fib(12):\n",
    "    print(i)"
   ]
  },
  {
   "cell_type": "markdown",
   "id": "26c599fa-67b5-4b5a-ba7b-6dab13851303",
   "metadata": {},
   "source": [
    "#question 5:\n",
    "Create a generataor function for prime numbers less than 1000. Use the next() method to print the first 20 \n",
    "\n"
   ]
  },
  {
   "cell_type": "code",
   "execution_count": 3,
   "id": "2f8d216b-c88f-414a-9b57-58e1e8996da1",
   "metadata": {},
   "outputs": [
    {
     "name": "stdout",
     "output_type": "stream",
     "text": [
      "1\n",
      "2\n",
      "3\n",
      "5\n",
      "7\n",
      "11\n",
      "13\n",
      "17\n",
      "19\n",
      "23\n",
      "29\n",
      "31\n",
      "37\n",
      "41\n",
      "43\n",
      "47\n",
      "53\n",
      "59\n",
      "61\n",
      "67\n",
      "71\n"
     ]
    }
   ],
   "source": [
    "def rohit():\n",
    "    for i in range(1,1001):\n",
    "        for j in range(2,i):\n",
    "            if i%j ==0:\n",
    "                break\n",
    "        else:   \n",
    "            yield i\n",
    "primes = rohit()\n",
    "for k in range(21):\n",
    "    print(next(primes))"
   ]
  },
  {
   "cell_type": "markdown",
   "id": "95d3fc1d-de4d-4c2f-abeb-cdc19f5601c5",
   "metadata": {},
   "source": [
    "#question 6:\n",
    "write a pythan program to print the first 10 fibonacci numbers using a while loop.\n"
   ]
  },
  {
   "cell_type": "code",
   "execution_count": 9,
   "id": "78bc003c-19b0-417d-84a0-334c9d6209c0",
   "metadata": {},
   "outputs": [],
   "source": [
    "def fibo(n):\n",
    "    a,b= 0,1\n",
    "    count = 0\n",
    "    while count<n:\n",
    "        yield a\n",
    "        a,b = b,a+b\n",
    "        count +=1\n",
    "        "
   ]
  },
  {
   "cell_type": "code",
   "execution_count": 10,
   "id": "1b39ec61-5b78-44cc-ba85-97b711eb3a0c",
   "metadata": {},
   "outputs": [
    {
     "name": "stdout",
     "output_type": "stream",
     "text": [
      "0\n",
      "1\n",
      "1\n",
      "2\n",
      "3\n",
      "5\n",
      "8\n",
      "13\n",
      "21\n",
      "34\n"
     ]
    }
   ],
   "source": [
    "for i in fibo(10):\n",
    "    print(i)"
   ]
  },
  {
   "cell_type": "markdown",
   "id": "bbf349b6-9d21-4701-a5ce-9024873264e4",
   "metadata": {
    "tags": []
   },
   "source": [
    "# question 7:\n",
    " write a list comprehension to iterate through the given string:\"pwskills\""
   ]
  },
  {
   "cell_type": "code",
   "execution_count": 11,
   "id": "e92b988a-d0b1-4a24-ba94-77e592c71575",
   "metadata": {},
   "outputs": [
    {
     "data": {
      "text/plain": [
       "['p', 'w', 's', 'k', 'i', 'l', 'l', 's']"
      ]
     },
     "execution_count": 11,
     "metadata": {},
     "output_type": "execute_result"
    }
   ],
   "source": [
    "#first method \n",
    "\n",
    "\n",
    "s = \"pwskills\"\n",
    "list(s)"
   ]
  },
  {
   "cell_type": "code",
   "execution_count": 13,
   "id": "bd0c871f-bfd3-45b4-adb2-d5c1155ffb34",
   "metadata": {},
   "outputs": [
    {
     "name": "stdout",
     "output_type": "stream",
     "text": [
      "['p', 'w', 's', 'k', 'i', 'l', 'l', 's']\n"
     ]
    }
   ],
   "source": [
    "#second method\n",
    "\n",
    "l = []\n",
    "iter(s)\n",
    "for i in s:\n",
    "    l.append(i)\n",
    "print(l)    \n",
    "    "
   ]
  },
  {
   "cell_type": "markdown",
   "id": "fadd4981-c4e7-4bb2-816b-8fcc30cab882",
   "metadata": {},
   "source": [
    "# question 8:\n",
    "\n",
    "Write a pythan code to check weather a given number is palindrome or not using a while loop.\n",
    "\n"
   ]
  },
  {
   "cell_type": "raw",
   "id": "eadb979d-1561-4ce2-9920-78465ebffccc",
   "metadata": {},
   "source": [
    "num= int(input())\n",
    "a = num\n",
    "rev = 0\n",
    "while (num !=0):\n",
    "    rev = num%10 + rev*10\n",
    "    num = num//10\n",
    "if rev == a:\n",
    "    print(\"given number is palidrome\")\n",
    "else:\n",
    "    print(\"given number is not a palidrome\")\n",
    "    "
   ]
  },
  {
   "cell_type": "markdown",
   "id": "be275a77-017e-4ebb-9d97-fc4197b0304f",
   "metadata": {},
   "source": [
    "# question 9:\n",
    "\n",
    "Write a code to print odd numbers from 1 to 100 using list comprehension.\n"
   ]
  },
  {
   "cell_type": "code",
   "execution_count": 6,
   "id": "489e1275-3385-4257-9192-fafef5463429",
   "metadata": {},
   "outputs": [
    {
     "data": {
      "text/plain": [
       "[1,\n",
       " 3,\n",
       " 5,\n",
       " 7,\n",
       " 9,\n",
       " 11,\n",
       " 13,\n",
       " 15,\n",
       " 17,\n",
       " 19,\n",
       " 21,\n",
       " 23,\n",
       " 25,\n",
       " 27,\n",
       " 29,\n",
       " 31,\n",
       " 33,\n",
       " 35,\n",
       " 37,\n",
       " 39,\n",
       " 41,\n",
       " 43,\n",
       " 45,\n",
       " 47,\n",
       " 49,\n",
       " 51,\n",
       " 53,\n",
       " 55,\n",
       " 57,\n",
       " 59,\n",
       " 61,\n",
       " 63,\n",
       " 65,\n",
       " 67,\n",
       " 69,\n",
       " 71,\n",
       " 73,\n",
       " 75,\n",
       " 77,\n",
       " 79,\n",
       " 81,\n",
       " 83,\n",
       " 85,\n",
       " 87,\n",
       " 89,\n",
       " 91,\n",
       " 93,\n",
       " 95,\n",
       " 97,\n",
       " 99]"
      ]
     },
     "execution_count": 6,
     "metadata": {},
     "output_type": "execute_result"
    }
   ],
   "source": [
    "l= []\n",
    "for i in range(1,101):\n",
    "        l. append(i)\n",
    "list(filter(lambda x:x%2 != 0,l))   "
   ]
  },
  {
   "cell_type": "code",
   "execution_count": null,
   "id": "3c742a49-6a60-4ff0-8eee-f98e4657d646",
   "metadata": {},
   "outputs": [],
   "source": []
  },
  {
   "cell_type": "code",
   "execution_count": null,
   "id": "f68b0012-6bc5-4d48-b0c5-b27cabfff2dc",
   "metadata": {},
   "outputs": [],
   "source": []
  }
 ],
 "metadata": {
  "kernelspec": {
   "display_name": "Python 3 (ipykernel)",
   "language": "python",
   "name": "python3"
  },
  "language_info": {
   "codemirror_mode": {
    "name": "ipython",
    "version": 3
   },
   "file_extension": ".py",
   "mimetype": "text/x-python",
   "name": "python",
   "nbconvert_exporter": "python",
   "pygments_lexer": "ipython3",
   "version": "3.10.8"
  }
 },
 "nbformat": 4,
 "nbformat_minor": 5
}
